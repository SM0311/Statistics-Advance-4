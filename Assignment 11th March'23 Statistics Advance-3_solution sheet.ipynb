{
 "cells": [
  {
   "cell_type": "markdown",
   "id": "b47e720c-9216-4e04-9ffe-02e55a1590ec",
   "metadata": {},
   "source": [
    "Q1: What is Estimation Statistics? Explain point estimate and interval estimate."
   ]
  },
  {
   "cell_type": "markdown",
   "id": "0e6c1fa9-c1fe-4ffe-b9e0-d101acbeb973",
   "metadata": {},
   "source": [
    "Answer1. Estimation statistics is a branch of statistics that deals with the process of estimating population parameters (such as the population mean or population proportion) from sample data.\n",
    "\n",
    "Point estimate is a single numerical value that is used to estimate the value of a population parameter.\n",
    "\n",
    "For example, the sample mean is often used as a point estimate for the population mean. A point estimate is calculated by applying a formula to the sample data.\n",
    "\n",
    "\n",
    "Interval estimate, on the other hand, is a range of values that is used to estimate the value of a population parameter, with a certain degree of confidence. An interval estimate is also called a confidence interval. Confidence intervals are calculated from sample data and indicate the range of values within which the population parameter is likely to fall. The width of the confidence interval depends on the level of confidence chosen, as well as the variability and sample size of the data.\n",
    "\n",
    "For example, suppose we want to estimate the average height of all students in a university. A point estimate would be a single number, say the average height of the 100 students we measured. An interval estimate, on the other hand, would be a range of values, such as 65 inches to 70 inches, with a confidence level of 95%. This means that we are 95% confident that the true average height of all students in the university falls within this range."
   ]
  },
  {
   "cell_type": "markdown",
   "id": "01f9256a-300b-4b8f-ab53-64e72bb2d804",
   "metadata": {},
   "source": [
    "Q2. Write a Python function to estimate the population mean using a sample mean and standard deviation."
   ]
  },
  {
   "cell_type": "code",
   "execution_count": 1,
   "id": "18ccdf3a-a740-4baa-af0b-ff35cacb4c94",
   "metadata": {},
   "outputs": [],
   "source": [
    "import math\n",
    "\n",
    "def estimate_population_mean(sample_mean, sample_std_dev, sample_size):\n",
    "   \n",
    "    # Calculate the standard error\n",
    "    std_error = sample_std_dev / math.sqrt(sample_size)\n",
    "    \n",
    "    # Calculate the margin of error for a 95% confidence interval\n",
    "    margin_of_error = 1.96 * std_error\n",
    "    \n",
    "    # Calculate the lower and upper bounds of the confidence interval\n",
    "    lower_bound = sample_mean - margin_of_error\n",
    "    upper_bound = sample_mean + margin_of_error\n",
    "    \n",
    "    # Return the estimated population mean and the confidence interval\n",
    "    return (sample_mean, (lower_bound, upper_bound))"
   ]
  },
  {
   "cell_type": "markdown",
   "id": "12d22a58-1480-4fea-be93-dc5e197a5238",
   "metadata": {},
   "source": [
    "Q3: What is Hypothesis testing? Why is it used? State the importance of Hypothesis testing."
   ]
  },
  {
   "cell_type": "markdown",
   "id": "4211d95a-a602-42e4-b04b-b025c67e8a71",
   "metadata": {},
   "source": [
    "Answer 3. Hypothesis testing is a statistical method used to make decisions about a population based on sample data. It involves formulating a hypothesis about the population parameter of interest and testing that hypothesis using sample data. The two main types of hypotheses in hypothesis testing are the null hypothesis and the alternative hypothesis.\n",
    "\n",
    "1. The null hypothesis is a statement that assumes there is no significant difference between a sample and a population parameter or that there is no relationship between two variables. The alternative hypothesis, on the other hand, is the statement that contradicts the null hypothesis.\n",
    "\n",
    "2. Hypothesis testing is used to determine the statistical significance of an observed effect. It helps to evaluate whether the observed effect is due to chance or whether it is a real effect that can be attributed to a specific cause or treatment. Hypothesis testing is commonly used in scientific research, quality control, marketing research, and other fields where making decisions based on data is important.\n",
    "\n",
    "The importance of hypothesis testing lies in its ability to provide a framework for making decisions based on data. Without hypothesis testing, decisions would be made based on intuition, personal bias, or anecdotal evidence, rather than on rigorous statistical analysis. Hypothesis testing provides a systematic and objective approach to evaluating the evidence for or against a hypothesis. It allows researchers to draw conclusions and make decisions based on data, rather than on assumptions or beliefs."
   ]
  },
  {
   "cell_type": "markdown",
   "id": "f3e3bd68-be9a-43e3-9652-13a136e20e19",
   "metadata": {},
   "source": [
    "Q4. Create a hypothesis that states whether the average weight of male college students is greater than the average weight of female college students."
   ]
  },
  {
   "cell_type": "markdown",
   "id": "0757b5e3-8719-455a-9eac-46c3ca04749d",
   "metadata": {},
   "source": [
    "Answer 4. The null hypothesis for this scenario would be:\n",
    "\n",
    "H0: The average weight of male college students is equal to or less than the average weight of female college students.\n",
    "\n",
    "The alternative hypothesis would be:\n",
    "\n",
    "Ha: The average weight of male college students is greater than the average weight of female college students."
   ]
  },
  {
   "cell_type": "markdown",
   "id": "5b8a9bef-deb3-4bf4-9f9d-f6e021fa891e",
   "metadata": {},
   "source": [
    "Q5. Write a Python script to conduct a hypothesis test on the difference between two population means, given a sample from each population."
   ]
  },
  {
   "cell_type": "code",
   "execution_count": 2,
   "id": "a4e2871d-7589-4533-98bf-decf23e6a7cf",
   "metadata": {},
   "outputs": [
    {
     "name": "stdout",
     "output_type": "stream",
     "text": [
      "Male mean weight: 178.95222834813532\n",
      "Female mean weight: 150.00422380170764\n",
      "t-value: 15.65770479573766\n",
      "p-value: 2.548351014548262e-28\n"
     ]
    }
   ],
   "source": [
    "import numpy as np\n",
    "from scipy.stats import ttest_ind\n",
    "\n",
    "# Generate sample data for male and female college students\n",
    "male_weight = np.random.normal(loc=180, scale=10, size=50)\n",
    "female_weight = np.random.normal(loc=150, scale=10, size=50)\n",
    "\n",
    "# Calculate the sample means and standard deviations\n",
    "male_mean = np.mean(male_weight)\n",
    "male_std = np.std(male_weight, ddof=1)\n",
    "female_mean = np.mean(female_weight)\n",
    "female_std = np.std(female_weight, ddof=1)\n",
    "\n",
    "# Conduct a two-sample t-test\n",
    "t, p = ttest_ind(male_weight, female_weight, equal_var=False)\n",
    "\n",
    "# Print the results\n",
    "print('Male mean weight:', male_mean)\n",
    "print('Female mean weight:', female_mean)\n",
    "print('t-value:', t)\n",
    "print('p-value:', p)"
   ]
  },
  {
   "cell_type": "markdown",
   "id": "b82fc2b9-ca6c-4496-b8cf-816312d90935",
   "metadata": {},
   "source": [
    "Q6: What is a null and alternative hypothesis? Give some examples."
   ]
  },
  {
   "cell_type": "markdown",
   "id": "42f229e6-e7c8-48b7-903c-0f1c9f2b6d04",
   "metadata": {},
   "source": [
    "Answer 6. In statistics, a null hypothesis (H0) is a statement that there is no significant difference between a population parameter and a sample statistic, or that there is no significant relationship between two variables. An alternative hypothesis (Ha or H1) is a statement that contradicts the null hypothesis and suggests that there is a significant difference or relationship.\n",
    "\n",
    "Here are some examples of null and alternative hypotheses:\n",
    "\n",
    "Null hypothesis: The average height of male and female students in a college is the same.\n",
    "Alternative hypothesis: The average height of male students is greater than the average height of female students.\n",
    "\n",
    "Null hypothesis: There is no significant difference in the mean IQ scores of children who attend a public school and those who attend a private school.\n",
    "Alternative hypothesis: The mean IQ score of children who attend a private school is higher than that of those who attend a public school.\n",
    "\n",
    "Null hypothesis: The proportion of defective products produced by machine A is the same as that produced by machine B.\n",
    "Alternative hypothesis: The proportion of defective products produced by machine A is higher than that produced by machine B.\n",
    "\n",
    "Null hypothesis: There is no correlation between the amount of time spent studying and the grade achieved in a test.\n",
    "Alternative hypothesis: There is a positive correlation between the amount of time spent studying and the grade achieved in a test.\n",
    "\n",
    "Null hypothesis: The mean salary of male and female employees in a company is equal.\n",
    "Alternative hypothesis: The mean salary of male employees is greater than the mean salary of female employees."
   ]
  },
  {
   "cell_type": "markdown",
   "id": "d7d0f85e-9ba7-4b4d-abcd-ab746ffb77d7",
   "metadata": {},
   "source": [
    "Q7: Write down the steps involved in hypothesis testing."
   ]
  },
  {
   "cell_type": "markdown",
   "id": "efb1c31d-5d87-4ba2-8414-213cf1026705",
   "metadata": {},
   "source": [
    "Answer 7. The following are the steps involved in hypothesis testing:\n",
    "\n",
    "1. Formulate the null hypothesis (H0) and the alternative hypothesis (Ha). The null hypothesis is usually the default assumption that there is no significant difference or relationship between two variables, while the alternative hypothesis is the statement that contradicts the null hypothesis.\n",
    "\n",
    "2. Determine the level of significance (α) for the test. The level of significance is the maximum probability of rejecting the null hypothesis when it is actually true. It is usually set at 0.05 or 0.01.\n",
    "\n",
    "3. Determine the appropriate test statistic and sampling distribution for the test. This depends on the type of data being analyzed and the research question being addressed.\n",
    "\n",
    "4. Collect data from the sample and calculate the test statistic based on the data. The test statistic is a numerical value that measures the distance between the sample statistic and the population parameter assumed by the null hypothesis.\n",
    "\n",
    "5. Calculate the p-value associated with the test statistic. The p-value is the probability of obtaining a test statistic as extreme or more extreme than the observed one, assuming the null hypothesis is true.\n",
    "\n",
    "6. Compare the p-value with the level of significance. If the p-value is less than or equal to the level of significance, reject the null hypothesis and accept the alternative hypothesis. If the p-value is greater than the level of significance, fail to reject the null hypothesis.\n",
    "\n",
    "7. Interpret the results of the test in the context of the research question. If the null hypothesis is rejected, conclude that there is evidence to support the alternative hypothesis. If the null hypothesis is not rejected, conclude that there is not enough evidence to support the alternative hypothesis."
   ]
  },
  {
   "cell_type": "markdown",
   "id": "6be8e0bf-2351-470f-8fde-cc7392e04820",
   "metadata": {},
   "source": [
    "Q8. Define p-value and explain its significance in hypothesis testing."
   ]
  },
  {
   "cell_type": "markdown",
   "id": "01464fe3-233f-4175-8f38-3fb67e538fc7",
   "metadata": {},
   "source": [
    "Answer 8. In hypothesis testing, the p-value is the probability of observing a test statistic as extreme as, or more extreme than, the one observed, assuming the null hypothesis is true. In other words, it represents the probability of obtaining the observed data or more extreme data under the assumption that the null hypothesis is true.\n",
    "\n",
    "The significance of the p-value is that it provides a way to assess the strength of evidence against the null hypothesis. If the p-value is less than or equal to the chosen level of significance (usually 0.05 or 0.01), it suggests that the observed data is unlikely to have occurred by chance alone, assuming the null hypothesis is true. Therefore, we reject the null hypothesis in favor of the alternative hypothesis.\n",
    "\n",
    "On the other hand, if the p-value is greater than the chosen level of significance, it suggests that the observed data is likely to have occurred by chance alone, assuming the null hypothesis is true. Therefore, we fail to reject the null hypothesis and do not have enough evidence to support the alternative hypothesis.\n",
    "\n",
    "It is important to note that the p-value does not provide information on the size or practical importance of the observed effect. It only assesses the statistical significance of the observed effect. It is up to the researcher to determine the practical significance of the observed effect and whether it is meaningful in the context of the research question."
   ]
  },
  {
   "cell_type": "markdown",
   "id": "0bbf830b-10ac-4fc5-8aeb-03bc5d0fa555",
   "metadata": {},
   "source": [
    "Q9. Generate a Student's t-distribution plot using Python's matplotlib library, with the degrees of freedom parameter set to 10."
   ]
  },
  {
   "cell_type": "code",
   "execution_count": 3,
   "id": "eaf80628-3a8f-4162-bf63-9fba6959e27a",
   "metadata": {},
   "outputs": [
    {
     "data": {
      "image/png": "[encoded data removed]",
      "text/plain": [
       "<Figure size 640x480 with 1 Axes>"
      ]
     },
     "metadata": {},
     "output_type": "display_data"
    }
   ],
   "source": [
    "#Answer 9. \n",
    "\n",
    "import numpy as np\n",
    "import matplotlib.pyplot as plt\n",
    "from scipy.stats import t\n",
    "\n",
    "df = 10 # degrees of freedom\n",
    "x = np.linspace(-5, 5, 1000) # x values for the plot\n",
    "y = t.pdf(x, df) # y values for the t-distribution\n",
    "\n",
    "plt.plot(x, y, label='t-distribution')\n",
    "plt.legend()\n",
    "plt.show()"
   ]
  },
  {
   "cell_type": "markdown",
   "id": "6c22c528-73c3-4cd0-8478-ba0b51721dd1",
   "metadata": {},
   "source": [
    "Q10. Write a Python program to calculate the two-sample t-test for independent samples, given two random samples of equal size and a null hypothesis that the population means are equal."
   ]
  },
  {
   "cell_type": "code",
   "execution_count": 4,
   "id": "2a1e3114-51ab-4464-a183-a8a4af736e7d",
   "metadata": {},
   "outputs": [
    {
     "name": "stdout",
     "output_type": "stream",
     "text": [
      "t-statistic: -8.135748069591958\n",
      "p-value: 4.440346871695393e-14\n"
     ]
    }
   ],
   "source": [
    "#Answer 10.\n",
    "\n",
    "import numpy as np\n",
    "from scipy.stats import ttest_ind\n",
    "\n",
    "# Generate two random samples with equal size\n",
    "sample1 = np.random.normal(5, 2, size=100)\n",
    "sample2 = np.random.normal(7, 2, size=100)\n",
    "\n",
    "# Calculate the t-statistic and p-value for the two samples\n",
    "t_stat, p_value = ttest_ind(sample1, sample2, equal_var=True)\n",
    "\n",
    "# Print the t-statistic and p-value\n",
    "print('t-statistic:', t_stat)\n",
    "print('p-value:', p_value)"
   ]
  },
  {
   "cell_type": "markdown",
   "id": "2777d45d-f78d-453a-8161-6506e3430525",
   "metadata": {},
   "source": [
    "Q11: What is Student’s t distribution? When to use the t-Distribution."
   ]
  },
  {
   "cell_type": "markdown",
   "id": "0bd099ce-0369-4685-81dc-2a8126481b1a",
   "metadata": {},
   "source": [
    "Answer 11. Student's t-distribution is a probability distribution that is used to estimate the population parameters when the sample size is small or the population standard deviation is unknown. It is similar to the standard normal distribution but with heavier tails, which means it allows for more variability in the data.\n",
    "\n",
    "The t-distribution is used when the population standard deviation is unknown, and the sample size is small (typically less than 30). It is also used when the population is normally distributed or can be assumed to be normally distributed. In hypothesis testing, the t-distribution is used to calculate the p-value and the test statistic for a hypothesis test when the population standard deviation is unknown."
   ]
  },
  {
   "cell_type": "markdown",
   "id": "5a516b54-fd7f-4c3d-bae6-baf9def615cc",
   "metadata": {},
   "source": [
    "Q12: What is t-statistic? State the formula for t-statistic."
   ]
  },
  {
   "cell_type": "markdown",
   "id": "3d1b2e00-3ad4-4d56-ad58-462e58d540b5",
   "metadata": {},
   "source": [
    "Answer 12. The t-statistic is a measure used in hypothesis testing to determine whether the difference between two sample means is significant or due to chance. It is used when the population standard deviation is unknown and the sample size is small (less than 30).\n",
    "\n",
    "The formula for t-statistic is as follows:\n",
    "\n",
    "t = (x1 - x2) / (s * sqrt(1/n1 + 1/n2))\n",
    "\n",
    "Where:\n",
    "\n",
    "x1 is the mean of the first sample\n",
    "x2 is the mean of the second sample\n",
    "s is the pooled standard deviation of the two samples\n",
    "n1 is the sample size of the first sample\n",
    "n2 is the sample size of the second sample\n",
    "\n",
    "The t-statistic is calculated by taking the difference between the two sample means (x1 - x2) and dividing it by the standard error of the difference, which is calculated by multiplying the pooled standard deviation (s) by the square root of the sum of the reciprocals of the sample sizes (1/n1 + 1/n2).\n",
    "\n",
    "The t-statistic is then compared to a critical value obtained from a t-distribution table based on the degrees of freedom, which is the sum of the sample sizes minus 2. If the t-statistic is greater than the critical value, then the difference between the two sample means is considered statistically significant."
   ]
  },
  {
   "cell_type": "markdown",
   "id": "ecbf2d20-aded-4e7d-8ffe-a11cb3e9e1e5",
   "metadata": {},
   "source": [
    "Q13. A coffee shop owner wants to estimate the average daily revenue for their shop. They take a random sample of 50 days and find the sample mean revenue to be $$500 with a standard deviation of $50.\n",
    "\n",
    "Estimate the population mean revenue with a 95% confidence interval."
   ]
  },
  {
   "cell_type": "code",
   "execution_count": 3,
   "id": "484279ce-fbd8-436e-894e-4e96ce81bbdf",
   "metadata": {},
   "outputs": [
    {
     "ename": "SyntaxError",
     "evalue": "invalid character '±' (U+00B1) (2811793430.py, line 3)",
     "output_type": "error",
     "traceback": [
      "\u001b[0;36m  Cell \u001b[0;32mIn[3], line 3\u001b[0;36m\u001b[0m\n\u001b[0;31m    Confidence interval = sample mean ± margin of error\u001b[0m\n\u001b[0m                                      ^\u001b[0m\n\u001b[0;31mSyntaxError\u001b[0m\u001b[0;31m:\u001b[0m invalid character '±' (U+00B1)\n"
     ]
    }
   ],
   "source": [
    "Answer 13. To estimate the population mean revenue with a 95% confidence interval, we can use the following formula:\n",
    "\n",
    "Confidence interval = sample mean ± margin of error\n",
    "\n",
    "where the margin of error is given by:\n",
    "\n",
    "Margin of error = t * (standard deviation / sqrt(sample size))\n",
    "\n",
    "Here, the sample size is 50, the sample mean is $500, the standard deviation is $50, and we want a 95% confidence interval. The critical t-value for a 95% confidence interval with 49 degrees of freedom is approximately 2.009 (using a t-distribution table or a statistical software).\n",
    "\n",
    "Plugging in these values, we get:\n",
    "\n",
    "Margin of error = 2.009 * ($50 / sqrt(50)) = $14.14\n",
    "\n",
    "Therefore, the 95% confidence interval for the population mean revenue is:\n",
    "\n",
    "$500 ± $14.14, or ($485.86, $514.14)\n",
    "\n",
    "This means we can be 95% confident that the true average daily revenue for the coffee shop falls between $485.86 and $514.14."
   ]
  },
  {
   "cell_type": "markdown",
   "id": "c69ceb0f-5070-4149-8c1b-4d60b5d1cbc5",
   "metadata": {},
   "source": [
    "Q14. A researcher hypothesizes that a new drug will decrease blood pressure by 10 mmHg. They conduct a clinical trial with 100 patients and find that the sample mean decrease in blood pressure is 8 mmHg with a\n",
    "standard deviation of 3 mmHg. Test the hypothesis with a significance level of 0.05."
   ]
  },
  {
   "cell_type": "markdown",
   "id": "fa0c4b17-ddc7-40df-9163-a26c0f5679f3",
   "metadata": {},
   "source": [
    "Answer 14. To test the hypothesis that the new drug will decrease blood pressure by 10 mmHg with a significance level of 0.05, we can use a one-sample t-test. The null and alternative hypotheses for this test are:\n",
    "\n",
    "Null hypothesis (H0): The true mean decrease in blood pressure is not significantly different from 10 mmHg.\n",
    "Alternative hypothesis (Ha): The true mean decrease in blood pressure is significantly less than 10 mmHg.\n",
    "\n",
    "We can use the following formula to calculate the t-statistic:\n",
    "\n",
    "t = (sample mean - hypothesized mean) / (standard deviation / sqrt(sample size))\n",
    "\n",
    "Here, the hypothesized mean is 10 mmHg, the sample mean is 8 mmHg, the standard deviation is 3 mmHg, and the sample size is 100. Plugging in these values, we get:\n",
    "\n",
    "t = (8 - 10) / (3 / sqrt(100)) = -3.33\n",
    "\n",
    "Using a t-distribution table or a statistical software, we can find the p-value associated with this t-statistic. For a one-tailed test with 99 degrees of freedom (sample size minus 1), the p-value is approximately 0.0006.\n",
    "\n",
    "Since the p-value is less than the significance level of 0.05, we can reject the null hypothesis and conclude that the new drug significantly decreases blood pressure by more than 10 mmHg. The sample data provides evidence that the true mean decrease in blood pressure is significantly less than 10 mmHg at a 95% confidence level."
   ]
  },
  {
   "cell_type": "markdown",
   "id": "b60306a5-6e35-4fa6-990b-1a11db836605",
   "metadata": {},
   "source": [
    "Q15. An electronics company produces a certain type of product with a mean weight of 5 pounds and a standard deviation of 0.5 pounds. A random sample of 25 products is taken, and the sample mean weight is found to be 4.8 pounds. Test the hypothesis that the true mean weight of the products is less than 5 pounds with a significance level of 0.01."
   ]
  },
  {
   "cell_type": "markdown",
   "id": "a4472052-5ca6-4911-a5dc-7d101a3b7202",
   "metadata": {},
   "source": [
    "Answer 15. To test the hypothesis that the true mean weight of the products is less than 5 pounds with a significance level of 0.01, we can use a one-sample t-test. The null and alternative hypotheses for this test are:\n",
    "\n",
    "Null hypothesis (H0): The true mean weight of the products is not significantly less than 5 pounds.\n",
    "Alternative hypothesis (Ha): The true mean weight of the products is significantly less than 5 pounds.\n",
    "\n",
    "We can use the following formula to calculate the t-statistic:\n",
    "\n",
    "t = (sample mean - hypothesized mean) / (standard deviation / sqrt(sample size))\n",
    "\n",
    "Here, the hypothesized mean is 5 pounds, the sample mean is 4.8 pounds, the standard deviation is 0.5 pounds, and the sample size is 25. Plugging in these values, we get:\n",
    "\n",
    "t = (4.8 - 5) / (0.5 / sqrt(25)) = -2.00\n",
    "\n",
    "Using a t-distribution table or a statistical software, we can find the p-value associated with this t-statistic. For a one-tailed test with 24 degrees of freedom (sample size minus 1), the p-value is approximately 0.029.\n",
    "\n",
    "Since the p-value is less than the significance level of 0.01, we can reject the null hypothesis and conclude that the true mean weight of the products is significantly less than 5 pounds. The sample data provides evidence that the true mean weight of the products is less than 5 pounds at a 99% confidence level."
   ]
  },
  {
   "cell_type": "markdown",
   "id": "8178f253-1f68-40f8-b7fb-676d7a09df31",
   "metadata": {},
   "source": [
    "Q16. Two groups of students are given different study materials to prepare for a test. The first group (n1 = 30) has a mean score of 80 with a standard deviation of 10, and the second group (n2 = 40) has a mean score of 75 with a standard deviation of 8. Test the hypothesis that the population means for the two groups are equal with a significance level of 0.01."
   ]
  },
  {
   "cell_type": "markdown",
   "id": "ea8d3d8e-6e7d-48e0-bc3b-0a8f7f7a1a74",
   "metadata": {},
   "source": [
    "Answer 16. To test the hypothesis that the population means for the two groups are equal with a significance level of 0.01, we can use a two-sample t-test. The null and alternative hypotheses for this test are:\n",
    "\n",
    "Null hypothesis (H0): The population means for the two groups are equal.\n",
    "Alternative hypothesis (Ha): The population means for the two groups are not equal.\n",
    "\n",
    "We can use the following formula to calculate the t-statistic:\n",
    "\n",
    "t = (sample mean difference - hypothesized mean difference) / (pooled standard deviation * sqrt(1/n1 + 1/n2))\n",
    "\n",
    "Here, the sample mean difference is 80 - 75 = 5, the hypothesized mean difference is 0 (since the null hypothesis assumes equal means), the pooled standard deviation is sqrt(((n1-1)*s1^2 + (n2-1)*s2^2)/(n1+n2-2)) = sqrt(((30-1)*10^2 + (40-1)*8^2)/(30+40-2)) = 9.29, and n1 and n2 are the sample sizes of the two groups. Plugging in these values, we get:\n",
    "\n",
    "t = (5 - 0) / (9.29 * sqrt(1/30 + 1/40)) = 1.51\n",
    "\n",
    "Using a t-distribution table or a statistical software, we can find the p-value associated with this t-statistic. For a two-tailed test with 68 degrees of freedom (n1 + n2 - 2), the p-value is approximately 0.137.\n",
    "\n",
    "Since the p-value is greater than the significance level of 0.01, we fail to reject the null hypothesis and conclude that there is not enough evidence to suggest that the population means for the two groups are different at a 99% confidence level."
   ]
  },
  {
   "cell_type": "markdown",
   "id": "0ec3ddb1-0e9a-4e42-aa3b-45b81753a809",
   "metadata": {},
   "source": [
    "Q17. A marketing company wants to estimate the average number of ads watched by viewers during a TV program. They take a random sample of 50 viewers and find that the sample mean is 4 with a standard deviation of 1.5. Estimate the population mean with a 99% confidence interval."
   ]
  },
  {
   "cell_type": "markdown",
   "id": "2607e3d0-9e70-4f91-899c-605f6c07ad92",
   "metadata": {},
   "source": [
    "Answer 17. To estimate the population mean with a 99% confidence interval, we can use the following formula:\n",
    "\n",
    "CI = X̄ ± tα/2 * (s / √n)\n",
    "\n",
    "Here, X̄ is the sample mean, s is the sample standard deviation, n is the sample size, tα/2 is the critical value from the t-distribution table for a two-tailed test with a significance level of 0.01 and (n-1) degrees of freedom.\n",
    "\n",
    "Plugging in the given values, we get:\n",
    "\n",
    "X̄ = 4\n",
    "\n",
    "s = 1.5\n",
    "\n",
    "n = 50\n",
    "\n",
    "df = n - 1 = 49\n",
    "\n",
    "From the t-distribution table, we find the critical value for tα/2 with 49 degrees of freedom and a significance level of 0.01 to be approximately 2.680.\n",
    "\n",
    "Substituting these values into the formula, we get:\n",
    "\n",
    "CI = 4 ± 2.680 * (1.5 / √50) = (3.47, 4.53)\n",
    "\n",
    "Therefore, we can say with 99% confidence that the population mean number of ads watched by viewers during a TV program is between 3.47 and 4.53."
   ]
  },
  {
   "cell_type": "code",
   "execution_count": null,
   "id": "1aa53dd4-bb1d-4ca7-b574-5a0b6f33c5f0",
   "metadata": {},
   "outputs": [],
   "source": []
  }
 ],
 "metadata": {
  "kernelspec": {
   "display_name": "Python 3 (ipykernel)",
   "language": "python",
   "name": "python3"
  },
  "language_info": {
   "codemirror_mode": {
    "name": "ipython",
    "version": 3
   },
   "file_extension": ".py",
   "mimetype": "text/x-python",
   "name": "python",
   "nbconvert_exporter": "python",
   "pygments_lexer": "ipython3",
   "version": "3.10.8"
  }
 },
 "nbformat": 4,
 "nbformat_minor": 5
}
