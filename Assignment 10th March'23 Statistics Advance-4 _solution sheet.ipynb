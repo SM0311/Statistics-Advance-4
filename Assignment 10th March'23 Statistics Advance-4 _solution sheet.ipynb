{
 "cells": [
  {
   "cell_type": "markdown",
   "id": "da21ece4-2c4d-4b7d-9d24-4b6850868769",
   "metadata": {},
   "source": [
    "**Q1:** What is the difference between a t-test and a z-test? Provide an example scenario where you would use each type of test."
   ]
  },
  {
   "cell_type": "markdown",
   "id": "1ebc40fe-808e-4d67-846f-fb5a617e6e1d",
   "metadata": {},
   "source": [
    "**Answer 1 -** A t-test and a z-test are both statistical hypothesis tests used to determine the significance of a sample mean when compared to a population mean. The main difference between the two tests lies in the assumptions made about the population and the sample size.\n",
    "\n",
    "* A t-test is used when the sample size is small (typically less than 30) or when the population standard deviation is unknown. It uses the t-distribution to determine the p-value, which is used to evaluate the null hypothesis that the sample mean is equal to the population mean. **For example, a researcher might use a t-test to determine if there is a significant difference in the mean test scores between two groups of students, where the sample size is less than 30.\n",
    "\n",
    "* A z-test, on the other hand, is used when the sample size is large (typically greater than 30) and when the population standard deviation is known. It uses the standard normal distribution to determine the p-value and test the null hypothesis that the sample mean is equal to the population mean.\n",
    "**For example, a marketing researcher might use a z-test to determine if a new advertisement campaign has resulted in a significant increase in sales, where the sample size is large and the population standard deviation is known.\n",
    "\n",
    "In summary, a t-test is used when the sample size is small and/or the population standard deviation is unknown, while a z-test is used when the sample size is large and the population standard deviation is known."
   ]
  },
  {
   "cell_type": "markdown",
   "id": "b9cb1c67-78f4-416a-8507-8edbb2a158c1",
   "metadata": {},
   "source": [
    "**Q2:** Differentiate between one-tailed and two-tailed tests."
   ]
  },
  {
   "cell_type": "markdown",
   "id": "f77bea55-3598-4d24-98ab-ba1cb7ab7cd6",
   "metadata": {},
   "source": [
    "**Answer 2 -** A hypothesis test is a statistical method for determining whether the results of a sample are consistent with a hypothesis about a population. One of the decisions that a researcher must make when conducting a hypothesis test is whether to use a one-tailed test or a two-tailed test.\n",
    "\n",
    "* In a one-tailed test, the researcher is only interested in one direction of the alternative hypothesis. For example, if the null hypothesis is that there is no difference between the mean scores of two groups, the one-tailed alternative hypothesis might be that one group has a significantly higher mean score than the other. The critical region for the test is located entirely on one side of the distribution, either the right or left side, depending on the direction of the alternative hypothesis. One-tailed tests are used when there is strong prior evidence or theoretical justification that suggests that the effect will only occur in one direction.\n",
    "\n",
    "*  In a two-tailed test, the researcher is interested in any difference between the sample mean and the population mean. The critical region for the test is divided into two equal parts, one on each side of the distribution, and the significance level is split between the two tails. For example, if the null hypothesis is that there is no difference between the mean scores of two groups, the two-tailed alternative hypothesis might be that the mean scores of the two groups are significantly different from each other. Two-tailed tests are used when there is no strong prior evidence or theoretical justification to suggest that the effect will only occur in one direction.\n",
    "\n",
    "In summary, one-tailed tests are used when the researcher is only interested in one direction of the alternative hypothesis, while two-tailed tests are used when the researcher is interested in any difference between the sample mean and the population mean."
   ]
  },
  {
   "cell_type": "markdown",
   "id": "7a804adf-2baf-43ce-8b6f-050cd1008a90",
   "metadata": {},
   "source": [
    "**Q3:** Explain the concept of Type 1 and Type 2 errors in hypothesis testing. Provide an example scenario for each type of error."
   ]
  },
  {
   "cell_type": "markdown",
   "id": "4cf98a7f-68da-44a1-9580-d7dbe4e066d9",
   "metadata": {},
   "source": [
    "**Answer 3 -** Type 1 and Type 2 errors are both possible outcomes of a hypothesis test that can occur when making a decision about the rejection or acceptance of a null hypothesis.\n",
    "\n",
    "Type 1 error occurs when the null hypothesis is rejected when it is actually true. This means that the researcher concludes that there is a significant effect when in fact, there is no effect. The probability of a Type 1 error is denoted by alpha (α) and is typically set at 0.05, meaning that there is a 5% chance of making a Type 1 error.\n",
    "\n",
    "An example of a Type 1 error is in a drug trial where a new medication is tested to see if it's effective in treating a particular condition. If the researchers reject the null hypothesis and conclude that the medication is effective when it's not, it can result in patients being prescribed a medication that is not effective and potentially causing harm.\n",
    "\n",
    "Type 2 error, on the other hand, occurs when the null hypothesis is accepted when it is actually false. This means that the researcher fails to detect a real effect or difference in the data when it exists. The probability of a Type 2 error is denoted by beta (β) and depends on factors such as the sample size, the level of significance, and the effect size.\n",
    "\n",
    "An example of a Type 2 error is in a criminal trial where the defendant is innocent, but the null hypothesis is not rejected, resulting in the defendant being found guilty. In this scenario, the researcher fails to detect the evidence of the defendant's innocence and the defendant is wrongly convicted.\n",
    "\n",
    "In summary, Type 1 errors occur when the null hypothesis is rejected when it's actually true, while Type 2 errors occur when the null hypothesis is accepted when it's actually false. Both types of errors can have serious consequences, and the level of significance and power of the test should be carefully considered when conducting a hypothesis test."
   ]
  },
  {
   "cell_type": "markdown",
   "id": "b119b1c5-8a62-48e8-ba99-acdbe9927d19",
   "metadata": {},
   "source": [
    "**Q4:** Explain Bayes's theorem with an example."
   ]
  },
  {
   "cell_type": "markdown",
   "id": "48289560-788c-40df-b7d3-c16107371b36",
   "metadata": {},
   "source": [
    "**Answer 4 -** Bayes's theorem is a mathematical formula that describes the probability of an event based on prior knowledge or information. It is named after Reverend Thomas Bayes, an 18th-century English statistician and philosopher.\n",
    "\n",
    "The formula for Bayes's theorem is:\n",
    "\n",
    "P(A|B) = P(B|A) * P(A) / P(B)\n",
    "\n",
    "where:\n",
    "\n",
    "P(A|B) is the probability of A given B.\n",
    "\n",
    "P(B|A) is the probability of B given A.\n",
    "\n",
    "P(A) is the prior probability of A.\n",
    "\n",
    "P(B) is the prior probability of B.\n",
    "\n",
    "An example of Bayes's theorem in action could be in medical diagnosis. Let's say a doctor is trying to diagnose a patient who has a cough. The doctor knows that there are two possible causes of the cough: a cold or lung cancer. The doctor also knows that 80% of people who have a cold have a cough, while 95% of people who have lung cancer have a cough.\n",
    "\n",
    "Let's use the following notation:\n",
    "\n",
    "A: The patient has lung cancer.\n",
    "\n",
    "B: The patient has a cough.\n",
    "\n",
    "The doctor estimates that the patient has a 1% chance of having lung cancer based on the patient's age, smoking history, and other risk factors. The doctor can use Bayes's theorem to calculate the probability of the patient having lung cancer given that the patient has a cough:\n",
    "\n",
    "P(A|B) = P(B|A) * P(A) / P(B)\n",
    "\n",
    "P(B|A) = 0.95 (the probability of having a cough given that the patient has lung cancer)\n",
    "P(A) = 0.01 (the prior probability of the patient having lung cancer)\n",
    "P(B) = 0.8 * 0.01 + 0.05 * 0.99 = 0.0585 (the probability of having a cough)\n",
    "\n",
    "P(A|B) = 0.95 * 0.01 / 0.0585 = 0.1624\n",
    "\n",
    "So the probability that the patient has lung cancer given that the patient has a cough is approximately 16.24%.\n",
    "\n",
    "This example illustrates how Bayes's theorem can be used to update our beliefs about the probability of an event given new information. In this case, the doctor's prior belief that the patient had a low chance of having lung cancer was updated based on the presence of a cough, which is a symptom that is more likely to be associated with lung cancer than a cold."
   ]
  },
  {
   "cell_type": "markdown",
   "id": "6d8bf528-9f4e-45ed-8a66-773b1659d825",
   "metadata": {},
   "source": [
    "**Q5:** What is a confidence interval? How to calculate the confidence interval, explain with an example."
   ]
  },
  {
   "cell_type": "markdown",
   "id": "2af24dda-7cbd-4ca6-9193-55b097d9a8c1",
   "metadata": {},
   "source": [
    "**Answer 5-** A confidence interval is a range of values that is likely to contain a population parameter with a certain degree of confidence. It is a measure of the precision of an estimate, such as a mean or a proportion, and is commonly used in statistics to express the uncertainty associated with a sample statistic.\n",
    "\n",
    "To calculate a confidence interval, we first need to choose a confidence level, which is the probability that the interval contains the true population parameter. A common choice for the confidence level is 95%, which means that we expect the interval to contain the true population parameter 95% of the time if we were to repeat the sampling process many times.\n",
    "\n",
    "The formula for calculating a confidence interval for a population mean with known standard deviation is:\n",
    "\n",
    "CI = X̄ ± Z*(σ/√n)\n",
    "\n",
    "where:\n",
    "\n",
    "* X̄ is the sample mean\n",
    "* Z is the z-score corresponding to the chosen confidence level (e.g. 1.96 for a 95% confidence level)\n",
    "* σ is the population standard deviation\n",
    "* n is the sample size\n",
    "\n",
    "Let's use an example to illustrate how to calculate a confidence interval. Suppose we want to estimate the mean height of adult males in a certain city, and we take a random sample of 50 adult males. We measure their heights and find that the sample mean is 175 cm and the population standard deviation is 5 cm.\n",
    "\n",
    "We want to calculate a 95% confidence interval for the true population mean height. Using the formula above, we have:\n",
    "\n",
    "CI = 175 ± 1.96*(5/√50)\n",
    "= 175 ± 1.385\n",
    "= (173.615, 176.385)\n",
    "\n",
    "So we can say with 95% confidence that the true population mean height of adult males in the city lies between 173.615 cm and 176.385 cm.\n",
    "\n",
    "In conclusion, a confidence interval is a measure of the uncertainty associated with an estimate, and it can be calculated using a formula that takes into account the sample size, the sample statistic, the population parameter, and the chosen confidence level. The resulting interval provides a range of plausible values for the population parameter with a certain degree of confidence."
   ]
  },
  {
   "cell_type": "markdown",
   "id": "d41355bf-ef09-44f0-b835-834db0ee8427",
   "metadata": {},
   "source": [
    "**Q6.** Use Bayes' Theorem to calculate the probability of an event occurring given prior knowledge of the event's probability and new evidence. Provide a sample problem and solution."
   ]
  },
  {
   "cell_type": "markdown",
   "id": "7a132eff-19bb-4d9e-88ef-ef394ba28a63",
   "metadata": {},
   "source": [
    "**Answer 6-** Sure, here is an example problem to illustrate the use of Bayes' Theorem in calculating the probability of an event occurring given prior knowledge and new evidence:\n",
    "\n",
    "Problem: A certain medical test is 99% accurate in detecting a disease, and the disease is known to occur in 1% of the population. If a person tests positive for the disease, what is the probability that they actually have the disease?\n",
    "\n",
    "Solution:\n",
    "Let's use the following notation:\n",
    "\n",
    "* D: The person has the disease\n",
    "* P: The person tests positive for the disease\n",
    "\n",
    "Using Bayes' Theorem, we can calculate the probability of a person actually having the disease given that they tested positive for it:\n",
    "\n",
    "P(D|P) = P(P|D) * P(D) / P(P)\n",
    "\n",
    "where:\n",
    "\n",
    "* P(D|P) is the probability of the person having the disease given that they tested positive\n",
    "\n",
    "* P(P|D) is the probability of testing positive given that the person has the disease, which is 0.99 in this case\n",
    "\n",
    "* P(D) is the prior probability of the person having the disease, which is 0.01 in this case\n",
    "\n",
    "* P(P) is the probability of testing positive, which can be calculated using the law of total probability as follows:\n",
    "\n",
    "P(P) = P(P|D) * P(D) + P(P|~D) * P(~D)\n",
    "\n",
    "where:\n",
    "\n",
    "* P(P|~D) is the probability of testing positive given that the person does not have the disease, which is the false positive rate, and is equal to 1 - the test's specificity (assuming a specificity of 99%, this value is 0.01)\n",
    "* P(~D) is the complement of the prior probability of having the disease, which is 1 - 0.01 = 0.99\n",
    "\n",
    "Thus, we have:\n",
    "\n",
    "P(P) = 0.99 * 0.01 + 0.01 * 0.99 = 0.0198\n",
    "\n",
    "Substituting this value and the other known values into Bayes' Theorem, we get:\n",
    "\n",
    "P(D|P) = 0.99 * 0.01 / 0.0198 = 0.5\n",
    "\n",
    "Therefore, the probability of a person actually having the disease given that they tested positive for it is 0.5 or 50%. This means that even if a person tests positive for the disease, there is still a 50% chance that they do not actually have the disease, and further testing or confirmation may be necessary."
   ]
  },
  {
   "cell_type": "markdown",
   "id": "a05523fe-d6cd-4fa1-a27b-501d0db2bfc1",
   "metadata": {},
   "source": [
    "**Q7.** Calculate the 95% confidence interval for a sample of data with a mean of 50 and a standard deviation of 5. Interpret the results."
   ]
  },
  {
   "cell_type": "markdown",
   "id": "87947a97-9fca-4a91-94bb-484afe9d11f2",
   "metadata": {},
   "source": [
    "**Answer 7-**\n",
    "\n",
    "To calculate the 95% confidence interval for a sample of data with a mean of 50 and a standard deviation of 5, we can use the formula:\n",
    "\n",
    "CI = X̄ ± Z*(σ/√n)\n",
    "\n",
    "where:\n",
    "\n",
    "X̄ is the sample mean (given as 50)\n",
    "Z is the z-score corresponding to the chosen confidence level (for 95% confidence level, Z = 1.96)\n",
    "σ is the population standard deviation (given as 5)\n",
    "n is the sample size (not given)\n",
    "\n",
    "Since the sample size (n) is not given, we cannot calculate the exact confidence interval. However, we can still interpret the results using the formula and assuming a large enough sample size.\n",
    "\n",
    "Assuming a large enough sample size, we can use the formula with a standard error of the mean instead of the population standard deviation, given by:\n",
    "\n",
    "SE = σ/√n\n",
    "\n",
    "where σ is the population standard deviation and n is the sample size.\n",
    "\n",
    "If we assume a sample size of n = 100, for example, we can calculate the 95% confidence interval as:\n",
    "\n",
    "CI = 50 ± 1.96*(5/√100) = 50 ± 0.98\n",
    "\n",
    "Therefore, the 95% confidence interval for the population mean is (49.02, 50.98). This means that we are 95% confident that the true population mean falls within this interval. We can interpret this as saying that if we were to take many random samples of size 100 from the population and calculate the confidence interval for each sample, 95% of these intervals would contain the true population mean.\n",
    "\n",
    "It is important to note that the confidence interval does not tell us anything about individual observations or samples, but rather about the population from which the sample was drawn. Additionally, the confidence interval depends on the chosen level of confidence and the sample size, and may vary for different samples of the same size."
   ]
  },
  {
   "cell_type": "markdown",
   "id": "182cb779-b343-4576-b2cc-09c359a2a82f",
   "metadata": {},
   "source": [
    "**Q8.** What is the margin of error in a confidence interval? How does sample size affect the margin of error? Provide an example of a scenario where a larger sample size would result in a smaller margin of error."
   ]
  },
  {
   "cell_type": "markdown",
   "id": "5ff48ba8-cbc1-4a8b-a0fe-b91f670e39fa",
   "metadata": {},
   "source": [
    "**Answer 8-** The margin of error in a confidence interval is a measure of the uncertainty or error in estimating the population parameter based on a sample. It represents the range of values within which the true population parameter is expected to lie, with a certain level of confidence. It is calculated by multiplying the critical value for the desired level of confidence by the standard error of the sample mean.\n",
    "\n",
    "The margin of error is affected by several factors, including the level of confidence, sample size, and variability in the data. A larger sample size generally results in a smaller margin of error because it reduces the standard error of the sample mean. This is because as the sample size increases, the variability of the sample mean decreases and the sample mean becomes a better estimate of the population mean. This reduction in variability leads to a more precise estimate of the population parameter, which results in a smaller margin of error.\n",
    "\n",
    "For example, suppose we want to estimate the mean height of all adults in a certain city with 95% confidence and a margin of error of 1 inch. We take a random sample of 50 adults and find the sample mean height to be 68 inches, with a standard deviation of 3 inches. Using the formula for the margin of error, we can calculate:\n",
    "\n",
    "Margin of error = 1.96 * (3 / sqrt(50)) ≈ 0.84 inches\n",
    "\n",
    "This means that we are 95% confident that the true population mean height falls within the range (67.16, 68.84) inches.\n",
    "\n",
    "Now, suppose we take a larger sample of 100 adults instead. Using the same formula for the margin of error, we can calculate:\n",
    "\n",
    "Margin of error = 1.96 * (3 / sqrt(100)) ≈ 0.59 inches\n",
    "\n",
    "This means that with the larger sample size, we can expect to have a smaller margin of error of 0.59 inches, compared to 0.84 inches with the smaller sample size. Therefore, a larger sample size leads to a smaller margin of error and a more precise estimate of the population parameter."
   ]
  },
  {
   "cell_type": "markdown",
   "id": "1696adb9-671c-4235-ac40-35830dc5e9a1",
   "metadata": {},
   "source": [
    "**Q9.** Calculate the z-score for a data point with a value of 75, a population mean of 70, and a population standard deviation of 5. Interpret the results."
   ]
  },
  {
   "cell_type": "markdown",
   "id": "620fa377-325b-4fb7-8579-3e550186b5eb",
   "metadata": {},
   "source": [
    "**Answer 9-** To calculate the z-score for a data point with a value of 75, a population mean of 70, and a population standard deviation of 5, we can use the formula:\n",
    "\n",
    "z = (x - μ) / σ\n",
    "\n",
    "where x is the data point, μ is the population mean, and σ is the population standard deviation.\n",
    "\n",
    "Plugging in the values, we get:\n",
    "\n",
    "z = (75 - 70) / 5 = 1\n",
    "\n",
    "Therefore, the z-score for this data point is 1.\n",
    "\n",
    "Interpreting the results, a z-score of 1 indicates that the data point of 75 is 1 standard deviation above the mean of the population. In other words, the value of 75 is higher than the mean by an amount equal to 1 standard deviation of the population data. This can be useful in determining how unusual or significant a particular data point is, compared to the rest of the population data."
   ]
  },
  {
   "cell_type": "markdown",
   "id": "d201f324-4da5-4fc3-b0bd-c1be83e7903d",
   "metadata": {},
   "source": [
    "**Q10.** In a study of the effectiveness of a new weight loss drug, a sample of 50 participants lost an average of 6 pounds with a standard deviation of 2.5 pounds. Conduct a hypothesis test to determine if the drug is\n",
    "significantly effective at a 95% confidence level using a t-test."
   ]
  },
  {
   "cell_type": "markdown",
   "id": "6bc42ca8-e63e-4c1e-8fa5-73b0a2a39de7",
   "metadata": {},
   "source": [
    "**Answer 10-** To conduct a hypothesis test to determine if the weight loss drug is significantly effective at a 95% confidence level using a t-test, we need to set up the null and alternative hypotheses, determine the appropriate test statistic and critical value, and calculate the p-value.\n",
    "\n",
    "Null hypothesis (H0): The weight loss drug is not significantly effective, and the true mean weight loss is equal to or less than 0 pounds.\n",
    "Alternative hypothesis (Ha): The weight loss drug is significantly effective, and the true mean weight loss is greater than 0 pounds.\n",
    "\n",
    "We will use a one-sample t-test, as we have a sample size of 50 and do not know the population standard deviation.\n",
    "\n",
    "The test statistic for the one-sample t-test is:\n",
    "\n",
    "t = (x̄ - μ) / (s / sqrt(n))\n",
    "\n",
    "where x̄ is the sample mean, μ is the hypothesized population mean under the null hypothesis, s is the sample standard deviation, and n is the sample size.\n",
    "\n",
    "Plugging in the values, we get:\n",
    "\n",
    "t = (6 - 0) / (2.5 / sqrt(50)) = 13.42\n",
    "\n",
    "Using a t-distribution table or calculator with 49 degrees of freedom (50 - 1), we find the critical value for a one-tailed test at a 95% confidence level to be 1.676.\n",
    "\n",
    "Since our calculated t-value of 13.42 is greater than the critical value of 1.676, we can reject the null hypothesis and conclude that the weight loss drug is significantly effective at a 95% confidence level.\n",
    "\n",
    "We can also calculate the p-value to further confirm our results. The p-value is the probability of obtaining a sample mean as extreme or more extreme than our observed sample mean, assuming the null hypothesis is true. Using a t-distribution table or calculator with 49 degrees of freedom, we find the p-value to be less than 0.001 (or very close to 0).\n",
    "\n",
    "Since the p-value is less than our significance level of 0.05, we reject the null hypothesis and conclude that the weight loss drug is significantly effective at a 95% confidence level."
   ]
  },
  {
   "cell_type": "markdown",
   "id": "15defd1f-bf3d-4ba9-b76c-5f8f8a3042d9",
   "metadata": {},
   "source": [
    "**Q11.** In a survey of 500 people, 65% reported being satisfied with their current job. Calculate the 95% confidence interval for the true proportion of people who are satisfied with their job."
   ]
  },
  {
   "cell_type": "markdown",
   "id": "8f109fc9-bcd6-44be-a4a1-f3db5830b766",
   "metadata": {},
   "source": [
    "**Answer 11-** To calculate the 95% confidence interval for the true proportion of people who are satisfied with their job, we can use the following formula:\n",
    "\n",
    "CI = p ± z*(sqrt((p*(1-p))/n))\n",
    "\n",
    "where CI is the confidence interval, p is the sample proportion, z is the critical value from the standard normal distribution for a 95% confidence level (which is approximately 1.96), and n is the sample size.\n",
    "\n",
    "Plugging in the values, we get:\n",
    "\n",
    "CI = 0.65 ± 1.96*(sqrt((0.65*(1-0.65))/500))\n",
    "CI = 0.65 ± 0.045\n",
    "CI = (0.605, 0.695)\n",
    "\n",
    "Therefore, the 95% confidence interval for the true proportion of people who are satisfied with their job is (0.605, 0.695).\n",
    "\n",
    "This means that we can be 95% confident that the true proportion of people who are satisfied with their job lies within this interval. We can interpret this as saying that if we were to repeat this survey many times, and calculate a new confidence interval each time, we would expect approximately 95% of the intervals to contain the true proportion of satisfied workers."
   ]
  },
  {
   "cell_type": "markdown",
   "id": "2366c7ec-6d71-4861-b27e-71d4fae5ebe5",
   "metadata": {},
   "source": [
    "**Q12.** A researcher is testing the effectiveness of two different teaching methods on student performance.\n",
    "Sample A has a mean score of 85 with a standard deviation of 6, while sample B has a mean score of 82 with a standard deviation of 5. Conduct a hypothesis test to determine if the two teaching methods have a\n",
    "significant difference in student performance using a t-test with a significance level of 0.01."
   ]
  },
  {
   "cell_type": "markdown",
   "id": "db3c3d28-2055-4d71-8b31-f16f3faa705d",
   "metadata": {},
   "source": [
    "**Answer 12-** To conduct a hypothesis test to determine if the two teaching methods have a significant difference in student performance using a t-test with a significance level of 0.01, we need to set up the null and alternative hypotheses, determine the appropriate test statistic and critical value, and calculate the p-value.\n",
    "\n",
    "Null hypothesis (H0): The two teaching methods have no significant difference in student performance, and the true difference in means is equal to 0.\n",
    "Alternative hypothesis (Ha): The two teaching methods have a significant difference in student performance, and the true difference in means is not equal to 0.\n",
    "\n",
    "We will use a two-sample t-test, as we have two independent samples and do not know the population standard deviations.\n",
    "\n",
    "The test statistic for the two-sample t-test is:\n",
    "\n",
    "t = (x̄1 - x̄2) / sqrt((s1^2/n1) + (s2^2/n2))\n",
    "\n",
    "where x̄1 and x̄2 are the sample means, s1 and s2 are the sample standard deviations, and n1 and n2 are the sample sizes.\n",
    "\n",
    "Plugging in the values, we get:\n",
    "\n",
    "t = (85 - 82) / sqrt((6^2/1) + (5^2/1)) = 2.41\n",
    "\n",
    "Using a t-distribution table or calculator with degrees of freedom equal to the smaller of n1-1 and n2-1 (in this case, 1), we find the critical value for a two-tailed test at a 0.01 significance level to be approximately ±12.71.\n",
    "\n",
    "Since our calculated t-value of 2.41 is not greater than the critical value of ±12.71, we fail to reject the null hypothesis. This means that we do not have sufficient evidence to conclude that there is a significant difference in student performance between the two teaching methods at a 0.01 significance level.\n",
    "\n",
    "We can also calculate the p-value to further confirm our results. The p-value is the probability of obtaining a sample difference in means as extreme or more extreme than our observed sample difference, assuming the null hypothesis is true. Using a t-distribution table or calculator with 1 degree of freedom, we find the p-value to be approximately 0.27.\n",
    "\n",
    "Since the p-value is greater than our significance level of 0.01, we fail to reject the null hypothesis and conclude that there is insufficient evidence to suggest that the two teaching methods have a significant difference in student performance."
   ]
  },
  {
   "cell_type": "markdown",
   "id": "c5a1d914-83c2-4076-823d-b583b7c83be8",
   "metadata": {},
   "source": [
    "**Q13.** A population has a mean of 60 and a standard deviation of 8. A sample of 50 observations has a mean of 65. Calculate the 90% confidence interval for the true population mean."
   ]
  },
  {
   "cell_type": "markdown",
   "id": "4863252b-a244-4cf5-bd2d-a6df9b95d317",
   "metadata": {},
   "source": [
    "**Answer 13-** To conduct a hypothesis test to determine if the two teaching methods have a significant difference in student performance using a t-test with a significance level of 0.01, we need to set up the null and alternative hypotheses, determine the appropriate test statistic and critical value, and calculate the p-value.\n",
    "\n",
    "Null hypothesis (H0): The two teaching methods have no significant difference in student performance, and the true difference in means is equal to 0.\n",
    "Alternative hypothesis (Ha): The two teaching methods have a significant difference in student performance, and the true difference in means is not equal to 0.\n",
    "\n",
    "We will use a two-sample t-test, as we have two independent samples and do not know the population standard deviations.\n",
    "\n",
    "The test statistic for the two-sample t-test is:\n",
    "\n",
    "t = (x̄1 - x̄2) / sqrt((s1^2/n1) + (s2^2/n2))\n",
    "\n",
    "where x̄1 and x̄2 are the sample means, s1 and s2 are the sample standard deviations, and n1 and n2 are the sample sizes.\n",
    "\n",
    "Plugging in the values, we get:\n",
    "\n",
    "t = (85 - 82) / sqrt((6^2/1) + (5^2/1)) = 2.41\n",
    "\n",
    "Using a t-distribution table or calculator with degrees of freedom equal to the smaller of n1-1 and n2-1 (in this case, 1), we find the critical value for a two-tailed test at a 0.01 significance level to be approximately ±12.71.\n",
    "\n",
    "Since our calculated t-value of 2.41 is not greater than the critical value of ±12.71, we fail to reject the null hypothesis. This means that we do not have sufficient evidence to conclude that there is a significant difference in student performance between the two teaching methods at a 0.01 significance level.\n",
    "\n",
    "We can also calculate the p-value to further confirm our results. The p-value is the probability of obtaining a sample difference in means as extreme or more extreme than our observed sample difference, assuming the null hypothesis is true. Using a t-distribution table or calculator with 1 degree of freedom, we find the p-value to be approximately 0.27.\n",
    "\n",
    "Since the p-value is greater than our significance level of 0.01, we fail to reject the null hypothesis and conclude that there is insufficient evidence to suggest that the two teaching methods have a significant difference in student performance."
   ]
  },
  {
   "cell_type": "markdown",
   "id": "38c3ba29-e23b-4efe-af07-7a815292b64c",
   "metadata": {},
   "source": [
    "**Q14.** In a study of the effects of caffeine on reaction time, a sample of 30 participants had an average reaction time of 0.25 seconds with a standard deviation of 0.05 seconds. Conduct a hypothesis test to\n",
    "determine if the caffeine has a significant effect on reaction time at a 90% confidence level using a t-test."
   ]
  },
  {
   "cell_type": "markdown",
   "id": "4687c1a5-7d1b-4bb8-968b-51dc2a32a908",
   "metadata": {},
   "source": [
    "**Answer 14-** To conduct a hypothesis test to determine if caffeine has a significant effect on reaction time at a 90% confidence level using a t-test, we need to set up the null and alternative hypotheses, determine the appropriate test statistic and critical value, and calculate the p-value.\n",
    "\n",
    "Null hypothesis (H0): Caffeine has no significant effect on reaction time, and the true mean difference is equal to 0.\n",
    "Alternative hypothesis (Ha): Caffeine has a significant effect on reaction time, and the true mean difference is not equal to 0.\n",
    "\n",
    "We will use a one-sample t-test, as we are comparing the sample mean to a known population mean of 0 (no difference in reaction time without caffeine).\n",
    "\n",
    "The test statistic for the one-sample t-test is:\n",
    "\n",
    "t = (x̄ - μ) / (s / sqrt(n))\n",
    "\n",
    "where x̄ is the sample mean, μ is the population mean (in this case, 0), s is the sample standard deviation, and n is the sample size.\n",
    "\n",
    "Plugging in the values, we get:\n",
    "\n",
    "t = (0.25 - 0) / (0.05 / sqrt(30)) = 7.75\n",
    "\n",
    "Using a t-distribution table or calculator with 29 degrees of freedom (n-1), we find the critical value for a two-tailed test at a 90% confidence level to be approximately ±1.699.\n",
    "\n",
    "Since our calculated t-value of 7.75 is greater than the critical value of ±1.699, we reject the null hypothesis. This means that we have sufficient evidence to conclude that caffeine has a significant effect on reaction time at a 90% confidence level.\n",
    "\n",
    "We can also calculate the p-value to further confirm our results. The p-value is the probability of obtaining a sample mean as extreme or more extreme than our observed sample mean, assuming the null hypothesis is true. Using a t-distribution table or calculator with 29 degrees of freedom, we find the p-value to be less than 0.0001 (very small).\n",
    "\n",
    "Since the p-value is less than our significance level of 0.1, we reject the null hypothesis and conclude that caffeine has a significant effect on reaction time at a 90% confidence level."
   ]
  },
  {
   "cell_type": "code",
   "execution_count": null,
   "id": "d6886526-7580-4129-aa78-0499ef059780",
   "metadata": {},
   "outputs": [],
   "source": []
  }
 ],
 "metadata": {
  "kernelspec": {
   "display_name": "Python 3 (ipykernel)",
   "language": "python",
   "name": "python3"
  },
  "language_info": {
   "codemirror_mode": {
    "name": "ipython",
    "version": 3
   },
   "file_extension": ".py",
   "mimetype": "text/x-python",
   "name": "python",
   "nbconvert_exporter": "python",
   "pygments_lexer": "ipython3",
   "version": "3.10.8"
  }
 },
 "nbformat": 4,
 "nbformat_minor": 5
}
